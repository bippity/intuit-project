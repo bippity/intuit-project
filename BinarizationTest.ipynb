{
  "nbformat": 4,
  "nbformat_minor": 0,
  "metadata": {
    "colab": {
      "name": "BinarizationTest.ipynb",
      "provenance": []
    },
    "kernelspec": {
      "name": "python3",
      "display_name": "Python 3"
    },
    "accelerator": "GPU"
  },
  "cells": [
    {
      "cell_type": "code",
      "metadata": {
        "id": "mgV80Ly1Ahwn",
        "colab_type": "code",
        "outputId": "46daf7b1-68cb-4465-b905-f0cf52c0d393",
        "colab": {
          "base_uri": "https://localhost:8080/",
          "height": 136
        }
      },
      "source": [
        "# Clone the GitHub repo branch and move the working directory into it\n",
        "# Replace \"/bippity/\" to your github profile's name and \"--branch <your branch name\"\n",
        "!git clone --single-branch --branch binarization https://github.com/bippity/intuit-project.git\n",
        "%cd intuit-project"
      ],
      "execution_count": 0,
      "outputs": [
        {
          "output_type": "stream",
          "text": [
            "Cloning into 'intuit-project'...\n",
            "remote: Enumerating objects: 501, done.\u001b[K\n",
            "remote: Total 501 (delta 0), reused 0 (delta 0), pack-reused 501\u001b[K\n",
            "Receiving objects: 100% (501/501), 1.06 GiB | 49.39 MiB/s, done.\n",
            "Resolving deltas: 100% (43/43), done.\n",
            "Checking out files: 100% (207/207), done.\n",
            "/content/intuit-project\n"
          ],
          "name": "stdout"
        }
      ]
    },
    {
      "cell_type": "code",
      "metadata": {
        "id": "hU9zvadjCsDI",
        "colab_type": "code",
        "outputId": "482971d1-112b-47cd-9210-04aea0e7329a",
        "colab": {
          "base_uri": "https://localhost:8080/",
          "height": 68
        }
      },
      "source": [
        "# Implement your preprocessing method's code and run the python file\n",
        "!python preprocessMethod.py"
      ],
      "execution_count": 0,
      "outputs": [
        {
          "output_type": "stream",
          "text": [
            "Total processing time:  239 ms\n",
            "Average processing time:  239.0 ms\n",
            "Saved processed images to binarized directory\n"
          ],
          "name": "stdout"
        }
      ]
    },
    {
      "cell_type": "code",
      "metadata": {
        "id": "_xgwFHMpkd79",
        "colab_type": "code",
        "outputId": "25d25cd6-4b8c-42bd-ba95-fdfacaae92c8",
        "colab": {
          "base_uri": "https://localhost:8080/",
          "height": 1000
        }
      },
      "source": [
        "!zip -r denoised.zip denoised"
      ],
      "execution_count": 0,
      "outputs": [
        {
          "output_type": "stream",
          "text": [
            "  adding: denoised/ (stored 0%)\n",
            "  adding: denoised/W2_XL_input_noisy_1023.jpg (deflated 6%)\n",
            "  adding: denoised/W2_XL_input_noisy_1086.jpg (deflated 14%)\n",
            "  adding: denoised/W2_XL_input_noisy_1092.jpg (deflated 3%)\n",
            "  adding: denoised/W2_XL_input_noisy_1036.jpg (deflated 8%)\n",
            "  adding: denoised/W2_XL_input_noisy_1040.jpg (deflated 7%)\n",
            "  adding: denoised/W2_XL_input_noisy_1019.jpg (deflated 5%)\n",
            "  adding: denoised/W2_XL_input_noisy_1033.jpg (deflated 10%)\n",
            "  adding: denoised/W2_XL_input_noisy_1094.jpg (deflated 3%)\n",
            "  adding: denoised/W2_XL_input_noisy_1004.jpg (deflated 9%)\n",
            "  adding: denoised/W2_XL_input_noisy_1097.jpg (deflated 14%)\n",
            "  adding: denoised/W2_XL_input_noisy_1077.jpg (deflated 8%)\n",
            "  adding: denoised/W2_XL_input_noisy_1096.jpg (deflated 6%)\n",
            "  adding: denoised/W2_XL_input_noisy_1012.jpg (deflated 8%)\n",
            "  adding: denoised/W2_XL_input_noisy_1029.jpg (deflated 12%)\n",
            "  adding: denoised/W2_XL_input_noisy_1059.jpg (deflated 7%)\n",
            "  adding: denoised/W2_XL_input_noisy_1084.jpg (deflated 11%)\n",
            "  adding: denoised/W2_XL_input_noisy_1070.jpg (deflated 7%)\n",
            "  adding: denoised/W2_XL_input_noisy_1078.jpg (deflated 7%)\n",
            "  adding: denoised/W2_XL_input_noisy_1018.jpg (deflated 4%)\n",
            "  adding: denoised/W2_XL_input_noisy_1017.jpg (deflated 6%)\n",
            "  adding: denoised/W2_XL_input_noisy_1014.jpg (deflated 6%)\n",
            "  adding: denoised/W2_XL_input_noisy_1022.jpg (deflated 5%)\n",
            "  adding: denoised/W2_XL_input_noisy_1037.jpg (deflated 5%)\n",
            "  adding: denoised/W2_XL_input_noisy_1005.jpg (deflated 10%)\n",
            "  adding: denoised/W2_XL_input_noisy_1075.jpg (deflated 6%)\n",
            "  adding: denoised/W2_XL_input_noisy_1069.jpg (deflated 7%)\n",
            "  adding: denoised/W2_XL_input_noisy_1082.jpg (deflated 8%)\n",
            "  adding: denoised/W2_XL_input_noisy_1091.jpg (deflated 7%)\n",
            "  adding: denoised/W2_XL_input_noisy_1049.jpg (deflated 7%)\n",
            "  adding: denoised/W2_XL_input_noisy_1080.jpg (deflated 10%)\n",
            "  adding: denoised/W2_XL_input_noisy_1076.jpg (deflated 7%)\n",
            "  adding: denoised/W2_XL_input_noisy_1042.jpg (deflated 10%)\n",
            "  adding: denoised/W2_XL_input_noisy_1089.jpg (deflated 10%)\n",
            "  adding: denoised/W2_XL_input_noisy_1013.jpg (deflated 8%)\n",
            "  adding: denoised/W2_XL_input_noisy_1071.jpg (deflated 8%)\n",
            "  adding: denoised/W2_XL_input_noisy_1032.jpg (deflated 10%)\n",
            "  adding: denoised/W2_XL_input_noisy_1001.jpg (deflated 6%)\n",
            "  adding: denoised/W2_XL_input_noisy_1098.jpg (deflated 12%)\n",
            "  adding: denoised/W2_XL_input_noisy_1025.jpg (deflated 8%)\n",
            "  adding: denoised/W2_XL_input_noisy_1026.jpg (deflated 7%)\n",
            "  adding: denoised/W2_XL_input_noisy_1010.jpg (deflated 11%)\n",
            "  adding: denoised/W2_XL_input_noisy_1057.jpg (deflated 8%)\n",
            "  adding: denoised/W2_XL_input_noisy_1062.jpg (deflated 5%)\n",
            "  adding: denoised/W2_XL_input_noisy_1034.jpg (deflated 7%)\n",
            "  adding: denoised/W2_XL_input_noisy_1061.jpg (deflated 5%)\n",
            "  adding: denoised/W2_XL_input_noisy_1007.jpg (deflated 7%)\n",
            "  adding: denoised/W2_XL_input_noisy_1066.jpg (deflated 6%)\n",
            "  adding: denoised/W2_XL_input_noisy_1011.jpg (deflated 10%)\n",
            "  adding: denoised/W2_XL_input_noisy_1099.jpg (deflated 10%)\n",
            "  adding: denoised/W2_XL_input_noisy_1072.jpg (deflated 5%)\n",
            "  adding: denoised/W2_XL_input_noisy_1090.jpg (deflated 7%)\n",
            "  adding: denoised/W2_XL_input_noisy_1020.jpg (deflated 5%)\n",
            "  adding: denoised/W2_XL_input_noisy_1053.jpg (deflated 7%)\n",
            "  adding: denoised/W2_XL_input_noisy_1085.jpg (deflated 11%)\n",
            "  adding: denoised/W2_XL_input_noisy_1058.jpg (deflated 6%)\n",
            "  adding: denoised/W2_XL_input_noisy_1050.jpg (deflated 11%)\n",
            "  adding: denoised/W2_XL_input_noisy_1031.jpg (deflated 11%)\n",
            "  adding: denoised/W2_XL_input_noisy_1056.jpg (deflated 6%)\n",
            "  adding: denoised/W2_XL_input_noisy_1047.jpg (deflated 9%)\n",
            "  adding: denoised/W2_XL_input_noisy_1079.jpg (deflated 6%)\n",
            "  adding: denoised/W2_XL_input_noisy_1006.jpg (deflated 7%)\n",
            "  adding: denoised/W2_XL_input_noisy_1087.jpg (deflated 12%)\n",
            "  adding: denoised/W2_XL_input_noisy_1015.jpg (deflated 7%)\n",
            "  adding: denoised/W2_XL_input_noisy_1074.jpg (deflated 8%)\n",
            "  adding: denoised/W2_XL_input_noisy_1016.jpg (deflated 9%)\n",
            "  adding: denoised/W2_XL_input_noisy_1052.jpg (deflated 7%)\n",
            "  adding: denoised/W2_XL_input_noisy_1054.jpg (deflated 4%)\n",
            "  adding: denoised/W2_XL_input_noisy_1044.jpg (deflated 6%)\n",
            "  adding: denoised/W2_XL_input_noisy_1064.jpg (deflated 6%)\n",
            "  adding: denoised/W2_XL_input_noisy_1068.jpg (deflated 6%)\n",
            "  adding: denoised/W2_XL_input_noisy_1039.jpg (deflated 6%)\n",
            "  adding: denoised/W2_XL_input_noisy_1073.jpg (deflated 9%)\n",
            "  adding: denoised/W2_XL_input_noisy_1083.jpg (deflated 8%)\n",
            "  adding: denoised/W2_XL_input_noisy_1035.jpg (deflated 6%)\n",
            "  adding: denoised/W2_XL_input_noisy_1000.jpg (deflated 7%)\n",
            "  adding: denoised/W2_XL_input_noisy_1028.jpg (deflated 8%)\n",
            "  adding: denoised/W2_XL_input_noisy_1051.jpg (deflated 7%)\n",
            "  adding: denoised/W2_XL_input_noisy_1027.jpg (deflated 5%)\n",
            "  adding: denoised/W2_XL_input_noisy_1048.jpg (deflated 7%)\n",
            "  adding: denoised/W2_XL_input_noisy_1045.jpg (deflated 7%)\n",
            "  adding: denoised/W2_XL_input_noisy_1081.jpg (deflated 6%)\n",
            "  adding: denoised/W2_XL_input_noisy_1055.jpg (deflated 5%)\n",
            "  adding: denoised/W2_XL_input_noisy_1002.jpg (deflated 8%)\n",
            "  adding: denoised/W2_XL_input_noisy_1060.jpg (deflated 4%)\n",
            "  adding: denoised/W2_XL_input_noisy_1024.jpg (deflated 7%)\n",
            "  adding: denoised/W2_XL_input_noisy_1067.jpg (deflated 5%)\n",
            "  adding: denoised/W2_XL_input_noisy_1063.jpg (deflated 5%)\n",
            "  adding: denoised/W2_XL_input_noisy_1008.jpg (deflated 7%)\n",
            "  adding: denoised/W2_XL_input_noisy_1065.jpg (deflated 5%)\n",
            "  adding: denoised/W2_XL_input_noisy_1043.jpg (deflated 7%)\n",
            "  adding: denoised/W2_XL_input_noisy_1095.jpg (deflated 6%)\n",
            "  adding: denoised/W2_XL_input_noisy_1003.jpg (deflated 8%)\n",
            "  adding: denoised/W2_XL_input_noisy_1041.jpg (deflated 6%)\n",
            "  adding: denoised/W2_XL_input_noisy_1009.jpg (deflated 11%)\n",
            "  adding: denoised/W2_XL_input_noisy_1038.jpg (deflated 6%)\n",
            "  adding: denoised/W2_XL_input_noisy_1021.jpg (deflated 5%)\n",
            "  adding: denoised/W2_XL_input_noisy_1030.jpg (deflated 7%)\n",
            "  adding: denoised/W2_XL_input_noisy_1046.jpg (deflated 6%)\n",
            "  adding: denoised/W2_XL_input_noisy_1088.jpg (deflated 12%)\n",
            "  adding: denoised/W2_XL_input_noisy_1093.jpg (deflated 3%)\n"
          ],
          "name": "stdout"
        }
      ]
    },
    {
      "cell_type": "code",
      "metadata": {
        "id": "3HV2zSo8zcg3",
        "colab_type": "code",
        "outputId": "c5395d52-8c3a-4a71-a4b2-6c3f846ce55c",
        "colab": {
          "base_uri": "https://localhost:8080/",
          "height": 1000
        }
      },
      "source": [
        "# Install Tesseract and its dependencies\n",
        "!sudo apt install tesseract-ocr libtesseract-dev libleptonica-dev pkg-config\n",
        "!pip install tesserocr"
      ],
      "execution_count": 0,
      "outputs": [
        {
          "output_type": "stream",
          "text": [
            "Reading package lists... Done\n",
            "Building dependency tree       \n",
            "Reading state information... Done\n",
            "pkg-config is already the newest version (0.29.1-0ubuntu2).\n",
            "The following additional packages will be installed:\n",
            "  tesseract-ocr-eng tesseract-ocr-osd\n",
            "The following NEW packages will be installed:\n",
            "  libleptonica-dev libtesseract-dev tesseract-ocr tesseract-ocr-eng\n",
            "  tesseract-ocr-osd\n",
            "0 upgraded, 5 newly installed, 0 to remove and 25 not upgraded.\n",
            "Need to get 7,550 kB of archives.\n",
            "After this operation, 29.6 MB of additional disk space will be used.\n",
            "Get:1 http://archive.ubuntu.com/ubuntu bionic/universe amd64 libleptonica-dev amd64 1.75.3-3 [1,308 kB]\n",
            "Get:2 http://archive.ubuntu.com/ubuntu bionic/universe amd64 libtesseract-dev amd64 4.00~git2288-10f4998a-2 [1,447 kB]\n",
            "Get:3 http://archive.ubuntu.com/ubuntu bionic/universe amd64 tesseract-ocr-eng all 4.00~git24-0e00fe6-1.2 [1,588 kB]\n",
            "Get:4 http://archive.ubuntu.com/ubuntu bionic/universe amd64 tesseract-ocr-osd all 4.00~git24-0e00fe6-1.2 [2,989 kB]\n",
            "Get:5 http://archive.ubuntu.com/ubuntu bionic/universe amd64 tesseract-ocr amd64 4.00~git2288-10f4998a-2 [218 kB]\n",
            "Fetched 7,550 kB in 2s (4,447 kB/s)\n",
            "debconf: unable to initialize frontend: Dialog\n",
            "debconf: (No usable dialog-like program is installed, so the dialog based frontend cannot be used. at /usr/share/perl5/Debconf/FrontEnd/Dialog.pm line 76, <> line 5.)\n",
            "debconf: falling back to frontend: Readline\n",
            "debconf: unable to initialize frontend: Readline\n",
            "debconf: (This frontend requires a controlling tty.)\n",
            "debconf: falling back to frontend: Teletype\n",
            "dpkg-preconfigure: unable to re-open stdin: \n",
            "Selecting previously unselected package libleptonica-dev.\n",
            "(Reading database ... 144542 files and directories currently installed.)\n",
            "Preparing to unpack .../libleptonica-dev_1.75.3-3_amd64.deb ...\n",
            "Unpacking libleptonica-dev (1.75.3-3) ...\n",
            "Selecting previously unselected package libtesseract-dev.\n",
            "Preparing to unpack .../libtesseract-dev_4.00~git2288-10f4998a-2_amd64.deb ...\n",
            "Unpacking libtesseract-dev (4.00~git2288-10f4998a-2) ...\n",
            "Selecting previously unselected package tesseract-ocr-eng.\n",
            "Preparing to unpack .../tesseract-ocr-eng_4.00~git24-0e00fe6-1.2_all.deb ...\n",
            "Unpacking tesseract-ocr-eng (4.00~git24-0e00fe6-1.2) ...\n",
            "Selecting previously unselected package tesseract-ocr-osd.\n",
            "Preparing to unpack .../tesseract-ocr-osd_4.00~git24-0e00fe6-1.2_all.deb ...\n",
            "Unpacking tesseract-ocr-osd (4.00~git24-0e00fe6-1.2) ...\n",
            "Selecting previously unselected package tesseract-ocr.\n",
            "Preparing to unpack .../tesseract-ocr_4.00~git2288-10f4998a-2_amd64.deb ...\n",
            "Unpacking tesseract-ocr (4.00~git2288-10f4998a-2) ...\n",
            "Setting up libleptonica-dev (1.75.3-3) ...\n",
            "Setting up tesseract-ocr-osd (4.00~git24-0e00fe6-1.2) ...\n",
            "Setting up tesseract-ocr-eng (4.00~git24-0e00fe6-1.2) ...\n",
            "Setting up libtesseract-dev (4.00~git2288-10f4998a-2) ...\n",
            "Setting up tesseract-ocr (4.00~git2288-10f4998a-2) ...\n",
            "Processing triggers for man-db (2.8.3-2ubuntu0.1) ...\n",
            "Collecting tesserocr\n",
            "\u001b[?25l  Downloading https://files.pythonhosted.org/packages/9b/98/b4a534c4f3da4163c8c3d4dfdb1619748b7fe7d8c4fc4718cad3cda55e32/tesserocr-2.5.1.tar.gz (54kB)\n",
            "\u001b[K     |████████████████████████████████| 61kB 8.6MB/s \n",
            "\u001b[?25hBuilding wheels for collected packages: tesserocr\n",
            "  Building wheel for tesserocr (setup.py) ... \u001b[?25l\u001b[?25hdone\n",
            "  Created wheel for tesserocr: filename=tesserocr-2.5.1-cp36-cp36m-linux_x86_64.whl size=567698 sha256=ed545807de42918badcc049d7feda84a9387f3139e836a2a5300bb395bd633a2\n",
            "  Stored in directory: /root/.cache/pip/wheels/ad/ec/84/c78a2afdfd097ad7e11b2ff485ba52626ae3fa70be413bb8a1\n",
            "Successfully built tesserocr\n",
            "Installing collected packages: tesserocr\n",
            "Successfully installed tesserocr-2.5.1\n"
          ],
          "name": "stdout"
        }
      ]
    },
    {
      "cell_type": "code",
      "metadata": {
        "id": "nmSEZEgOzgfg",
        "colab_type": "code",
        "outputId": "05ffbcb4-be0a-4454-c7f4-cccfc1ce201a",
        "colab": {
          "base_uri": "https://localhost:8080/",
          "height": 136
        }
      },
      "source": [
        "# Run accuracy test on the preprocessed results folder\n",
        "!python tesseract_test.py -i realistic-noise-testing -r"
      ],
      "execution_count": 0,
      "outputs": [
        {
          "output_type": "stream",
          "text": [
            "\n",
            "REALISTIC NOISY DATA\n",
            "Forms Processed:  100\n",
            "Forms Perfectly Recognized:  2\n",
            "Average Processing Time:  10235.78  milliseconds\n",
            "Average Cell Accuracy:  60.27534717439196 % of cells correctly recognized\n",
            "\n"
          ],
          "name": "stdout"
        }
      ]
    }
  ]
}