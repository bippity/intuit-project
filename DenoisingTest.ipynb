{
  "nbformat": 4,
  "nbformat_minor": 0,
  "metadata": {
    "colab": {
      "name": "DenoisingTest.ipynb",
      "provenance": []
    },
    "kernelspec": {
      "name": "python3",
      "display_name": "Python 3"
    },
    "accelerator": "GPU"
  },
  "cells": [
    {
      "cell_type": "markdown",
      "metadata": {
        "id": "L__Jgi6kpZMW",
        "colab_type": "text"
      },
      "source": [
        "https://github.com/bippity/intuit-project/tree/denoising\n",
        "\n",
        "Tweak [line 33](https://github.com/bippity/intuit-project/blob/denoising/preprocessMethod.py#L33) to change the algorithm\n",
        "\n"
      ]
    },
    {
      "cell_type": "code",
      "metadata": {
        "id": "2pjFeuyNoEPL",
        "colab_type": "code",
        "outputId": "892ebf0e-d0c9-4f9f-8337-a74b11b90010",
        "colab": {
          "base_uri": "https://localhost:8080/",
          "height": 136
        }
      },
      "source": [
        "# Clone the GitHub repo branch and move the working directory into it\n",
        "# Replace \"/bippity/\" to your github profile's name\n",
        "!git clone --single-branch --branch denoising https://github.com/bippity/intuit-project.git\n",
        "%cd intuit-project"
      ],
      "execution_count": 0,
      "outputs": [
        {
          "output_type": "stream",
          "text": [
            "Cloning into 'intuit-project'...\n",
            "remote: Enumerating objects: 391, done.\u001b[K\n",
            "remote: Total 391 (delta 0), reused 0 (delta 0), pack-reused 391\u001b[K\n",
            "Receiving objects: 100% (391/391), 599.25 MiB | 38.90 MiB/s, done.\n",
            "Resolving deltas: 100% (40/40), done.\n",
            "Checking out files: 100% (207/207), done.\n",
            "/content/intuit-project\n"
          ],
          "name": "stdout"
        }
      ]
    },
    {
      "cell_type": "code",
      "metadata": {
        "id": "mNV3qaSToN4a",
        "colab_type": "code",
        "outputId": "8c200d54-ec34-4b2e-f85e-e11ead3621e6",
        "colab": {
          "base_uri": "https://localhost:8080/",
          "height": 68
        }
      },
      "source": [
        "# Implement your preprocessing method's code and run the python file\n",
        "!python preprocessMethod.py"
      ],
      "execution_count": 0,
      "outputs": [
        {
          "output_type": "stream",
          "text": [
            "Total processing time:  52094 ms\n",
            "Average processing time:  52094.0 ms\n",
            "Saved processed images to results directory\n"
          ],
          "name": "stdout"
        }
      ]
    },
    {
      "cell_type": "code",
      "metadata": {
        "id": "fTRKBN4K9O3q",
        "colab_type": "code",
        "colab": {}
      },
      "source": [
        "# Zip and download results folder to local machine\n",
        "!zip -r results.zip results"
      ],
      "execution_count": 0,
      "outputs": []
    },
    {
      "cell_type": "code",
      "metadata": {
        "id": "zTnUI7q5iyZ5",
        "colab_type": "code",
        "colab": {}
      },
      "source": [
        "# Install Tesseract and its dependencies\n",
        "!sudo apt install tesseract-ocr libtesseract-dev libleptonica-dev pkg-config\n",
        "!pip install tesserocr"
      ],
      "execution_count": 0,
      "outputs": []
    },
    {
      "cell_type": "code",
      "metadata": {
        "id": "C_sItZW-LbGY",
        "colab_type": "code",
        "outputId": "42ce65b3-1a16-4441-8777-dbeda5a36371",
        "colab": {
          "base_uri": "https://localhost:8080/",
          "height": 136
        }
      },
      "source": [
        "# Run accuracy test on the preprocessed results folder\n",
        "!python tesseract_test.py -i realistic-noise-testing -r"
      ],
      "execution_count": 0,
      "outputs": [
        {
          "output_type": "stream",
          "text": [
            "\n",
            "REALISTIC NOISY DATA\n",
            "Forms Processed:  100\n",
            "Forms Perfectly Recognized:  8\n",
            "Average Processing Time:  9341.48  milliseconds\n",
            "Average Cell Accuracy:  84.85397809918136 % of cells correctly recognized\n",
            "\n"
          ],
          "name": "stdout"
        }
      ]
    }
  ]
}